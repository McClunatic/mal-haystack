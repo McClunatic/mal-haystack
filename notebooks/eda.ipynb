{
 "cells": [
  {
   "cell_type": "code",
   "execution_count": 1,
   "metadata": {},
   "outputs": [],
   "source": [
    "import zipfile\n",
    "\n",
    "import pandas as pd"
   ]
  },
  {
   "cell_type": "code",
   "execution_count": 2,
   "metadata": {},
   "outputs": [
    {
     "name": "stdout",
     "output_type": "stream",
     "text": [
      "['MAL Anime Recommendations 45k.csv', 'MAL Anime Reviews 85k.csv', 'MAL Anime Top 10000 Details.csv']\n"
     ]
    }
   ],
   "source": [
    "with zipfile.ZipFile('../data/mal-top-10k-anime-details.zip') as myzip:\n",
    "    print(myzip.namelist())"
   ]
  },
  {
   "cell_type": "code",
   "execution_count": 3,
   "metadata": {},
   "outputs": [],
   "source": [
    "with zipfile.ZipFile('../data/mal-top-10k-anime-details.zip') as myzip:\n",
    "    with myzip.open('MAL Anime Reviews 85k.csv') as myzipfile:\n",
    "        df = pd.read_csv(myzipfile)"
   ]
  },
  {
   "cell_type": "code",
   "execution_count": 4,
   "metadata": {},
   "outputs": [
    {
     "data": {
      "text/html": [
       "<div>\n",
       "<style scoped>\n",
       "    .dataframe tbody tr th:only-of-type {\n",
       "        vertical-align: middle;\n",
       "    }\n",
       "\n",
       "    .dataframe tbody tr th {\n",
       "        vertical-align: top;\n",
       "    }\n",
       "\n",
       "    .dataframe thead th {\n",
       "        text-align: right;\n",
       "    }\n",
       "</style>\n",
       "<table border=\"1\" class=\"dataframe\">\n",
       "  <thead>\n",
       "    <tr style=\"text-align: right;\">\n",
       "      <th></th>\n",
       "      <th>Anime Rank</th>\n",
       "      <th>Anime Title</th>\n",
       "      <th>Anime URL</th>\n",
       "      <th>Username</th>\n",
       "      <th>Review Date</th>\n",
       "      <th>Episodes Watched</th>\n",
       "      <th>Review Likes</th>\n",
       "      <th>Overall Rating</th>\n",
       "      <th>Story Rating</th>\n",
       "      <th>Animation Rating</th>\n",
       "      <th>Sound Rating</th>\n",
       "      <th>Character Rating</th>\n",
       "      <th>Enjoyment Rating</th>\n",
       "      <th>Review</th>\n",
       "    </tr>\n",
       "  </thead>\n",
       "  <tbody>\n",
       "    <tr>\n",
       "      <th>0</th>\n",
       "      <td>1</td>\n",
       "      <td>Fullmetal Alchemist: Brotherhood</td>\n",
       "      <td>https://myanimelist.net/anime/5114/Fullmetal_A...</td>\n",
       "      <td>tazillo</td>\n",
       "      <td>Jan 25, 2010</td>\n",
       "      <td>64 of 64 episodes seen</td>\n",
       "      <td>3464</td>\n",
       "      <td>10</td>\n",
       "      <td>10</td>\n",
       "      <td>9</td>\n",
       "      <td>9</td>\n",
       "      <td>10</td>\n",
       "      <td>10</td>\n",
       "      <td>First of all, I have seen the original FMA and...</td>\n",
       "    </tr>\n",
       "    <tr>\n",
       "      <th>1</th>\n",
       "      <td>1</td>\n",
       "      <td>Fullmetal Alchemist: Brotherhood</td>\n",
       "      <td>https://myanimelist.net/anime/5114/Fullmetal_A...</td>\n",
       "      <td>Archaeon</td>\n",
       "      <td>Nov 15, 2010</td>\n",
       "      <td>64 of 64 episodes seen</td>\n",
       "      <td>1311</td>\n",
       "      <td>9</td>\n",
       "      <td>8</td>\n",
       "      <td>9</td>\n",
       "      <td>9</td>\n",
       "      <td>9</td>\n",
       "      <td>9</td>\n",
       "      <td>Adaptations have long been a thorn in the side...</td>\n",
       "    </tr>\n",
       "    <tr>\n",
       "      <th>2</th>\n",
       "      <td>1</td>\n",
       "      <td>Fullmetal Alchemist: Brotherhood</td>\n",
       "      <td>https://myanimelist.net/anime/5114/Fullmetal_A...</td>\n",
       "      <td>ChristopherKClaw</td>\n",
       "      <td>Apr 7, 2015</td>\n",
       "      <td>64 of 64 episodes seen</td>\n",
       "      <td>1113</td>\n",
       "      <td>7</td>\n",
       "      <td>8</td>\n",
       "      <td>8</td>\n",
       "      <td>10</td>\n",
       "      <td>6</td>\n",
       "      <td>7</td>\n",
       "      <td>Fullmetal Alchemist: Brotherhood gets an immen...</td>\n",
       "    </tr>\n",
       "    <tr>\n",
       "      <th>3</th>\n",
       "      <td>1</td>\n",
       "      <td>Fullmetal Alchemist: Brotherhood</td>\n",
       "      <td>https://myanimelist.net/anime/5114/Fullmetal_A...</td>\n",
       "      <td>literaturenerd</td>\n",
       "      <td>Apr 25, 2015</td>\n",
       "      <td>64 of 64 episodes seen</td>\n",
       "      <td>704</td>\n",
       "      <td>7</td>\n",
       "      <td>8</td>\n",
       "      <td>8</td>\n",
       "      <td>8</td>\n",
       "      <td>8</td>\n",
       "      <td>8</td>\n",
       "      <td>Overview:\\nFMA Brotherhood is an anime that ne...</td>\n",
       "    </tr>\n",
       "    <tr>\n",
       "      <th>4</th>\n",
       "      <td>1</td>\n",
       "      <td>Fullmetal Alchemist: Brotherhood</td>\n",
       "      <td>https://myanimelist.net/anime/5114/Fullmetal_A...</td>\n",
       "      <td>M0nkeyD_Luffy</td>\n",
       "      <td>Jul 29, 2015</td>\n",
       "      <td>64 of 64 episodes seen</td>\n",
       "      <td>446</td>\n",
       "      <td>5</td>\n",
       "      <td>2</td>\n",
       "      <td>7</td>\n",
       "      <td>7</td>\n",
       "      <td>8</td>\n",
       "      <td>5</td>\n",
       "      <td>Since I couldn't find any legitimate objective...</td>\n",
       "    </tr>\n",
       "  </tbody>\n",
       "</table>\n",
       "</div>"
      ],
      "text/plain": [
       "   Anime Rank                       Anime Title  \\\n",
       "0           1  Fullmetal Alchemist: Brotherhood   \n",
       "1           1  Fullmetal Alchemist: Brotherhood   \n",
       "2           1  Fullmetal Alchemist: Brotherhood   \n",
       "3           1  Fullmetal Alchemist: Brotherhood   \n",
       "4           1  Fullmetal Alchemist: Brotherhood   \n",
       "\n",
       "                                           Anime URL          Username  \\\n",
       "0  https://myanimelist.net/anime/5114/Fullmetal_A...           tazillo   \n",
       "1  https://myanimelist.net/anime/5114/Fullmetal_A...          Archaeon   \n",
       "2  https://myanimelist.net/anime/5114/Fullmetal_A...  ChristopherKClaw   \n",
       "3  https://myanimelist.net/anime/5114/Fullmetal_A...    literaturenerd   \n",
       "4  https://myanimelist.net/anime/5114/Fullmetal_A...     M0nkeyD_Luffy   \n",
       "\n",
       "    Review Date        Episodes Watched  Review Likes  Overall Rating  \\\n",
       "0  Jan 25, 2010  64 of 64 episodes seen          3464              10   \n",
       "1  Nov 15, 2010  64 of 64 episodes seen          1311               9   \n",
       "2   Apr 7, 2015  64 of 64 episodes seen          1113               7   \n",
       "3  Apr 25, 2015  64 of 64 episodes seen           704               7   \n",
       "4  Jul 29, 2015  64 of 64 episodes seen           446               5   \n",
       "\n",
       "   Story Rating  Animation Rating  Sound Rating  Character Rating  \\\n",
       "0            10                 9             9                10   \n",
       "1             8                 9             9                 9   \n",
       "2             8                 8            10                 6   \n",
       "3             8                 8             8                 8   \n",
       "4             2                 7             7                 8   \n",
       "\n",
       "   Enjoyment Rating                                             Review  \n",
       "0                10  First of all, I have seen the original FMA and...  \n",
       "1                 9  Adaptations have long been a thorn in the side...  \n",
       "2                 7  Fullmetal Alchemist: Brotherhood gets an immen...  \n",
       "3                 8  Overview:\\nFMA Brotherhood is an anime that ne...  \n",
       "4                 5  Since I couldn't find any legitimate objective...  "
      ]
     },
     "execution_count": 4,
     "metadata": {},
     "output_type": "execute_result"
    }
   ],
   "source": [
    "df.head()"
   ]
  },
  {
   "cell_type": "code",
   "execution_count": 5,
   "metadata": {},
   "outputs": [
    {
     "name": "stderr",
     "output_type": "stream",
     "text": [
      "c:\\Users\\Brian\\miniconda3\\envs\\mal\\lib\\site-packages\\tqdm\\auto.py:22: TqdmWarning: IProgress not found. Please update jupyter and ipywidgets. See https://ipywidgets.readthedocs.io/en/stable/user_install.html\n",
      "  from .autonotebook import tqdm as notebook_tqdm\n"
     ]
    }
   ],
   "source": [
    "from mal_haystack import SeriesConverter, ZipDataFramer, ZipLister"
   ]
  },
  {
   "cell_type": "code",
   "execution_count": 6,
   "metadata": {},
   "outputs": [
    {
     "name": "stderr",
     "output_type": "stream",
     "text": [
      "Extracting Series text: 100%|██████████| 85953/85953 [00:01<00:00, 57691.43it/s]\n"
     ]
    }
   ],
   "source": [
    "from haystack.pipelines import Pipeline\n",
    "\n",
    "lister = ZipLister()\n",
    "framer = ZipDataFramer()\n",
    "converter = SeriesConverter()\n",
    "p = Pipeline()\n",
    "p.add_node(component=lister, name='ZipLister', inputs=['File'])\n",
    "p.add_node(component=framer, name='ZipFramer', inputs=['ZipLister'])\n",
    "p.add_node(component=converter, name='SeriesConverter', inputs=['ZipFramer'])\n",
    "\n",
    "result = p.run(\n",
    "    file_paths=['../data/mal-top-10k-anime-details.zip'],\n",
    "    params={\n",
    "        'ZipLister': {'valid_names': ['MAL Anime Reviews 85k.csv']},\n",
    "        'SeriesConverter': {'series': 'Review'},\n",
    "    },\n",
    ")"
   ]
  },
  {
   "cell_type": "code",
   "execution_count": 7,
   "metadata": {},
   "outputs": [
    {
     "data": {
      "text/plain": [
       "dict_keys(['documents', 'dataframes', 'file_paths', 'meta', 'root_node', 'params', 'node_id'])"
      ]
     },
     "execution_count": 7,
     "metadata": {},
     "output_type": "execute_result"
    }
   ],
   "source": [
    "result.keys()"
   ]
  },
  {
   "cell_type": "code",
   "execution_count": 8,
   "metadata": {},
   "outputs": [
    {
     "data": {
      "text/plain": [
       "{'zip_paths': ['../data/mal-top-10k-anime-details.zip']}"
      ]
     },
     "execution_count": 8,
     "metadata": {},
     "output_type": "execute_result"
    }
   ],
   "source": [
    "result['meta']"
   ]
  },
  {
   "cell_type": "code",
   "execution_count": 9,
   "metadata": {},
   "outputs": [
    {
     "data": {
      "text/plain": [
       "<Document: {'content': \"First of all, I have seen the original FMA and although it was very popular and original, the pacing and conclusion did not sit too well with me. Brotherhood is meant to be a remake of the original, this time sticking to the manga all the way through, but there were people who thought it would spoil the franchise. That myth should be dispelled, as there's only one word to describe this series - EPIC.\\nI admit that as I've seen the original and read the manga, the pacing of Brotherhood seems to start off being VERY fast (I finally got used to the pacing after\\nwatching the first fifteen eps or so). Events that took up half a volume of the manga and had spread though a few episodes of the original anime were now shown in just a single episode. However, after trying to look at it from the perspective of someone who's new to FMA (not comparing it to the manga nor the original), I believe that the pacing works and it manages to tell an intriguing story effectively with little confusion. The plot is full of clever ideas and unpredictable twists that link various parts of the story together. By the final episode, all loose ends are neatly tied up and what's left is a hugely satisfying epilogue.\\nThe animation in FMA Brotherhood is crisp and very well done (although it does sometimes dip a bit in quality). Compared to the original FMA it's a bit simpler but that's just because the original set a very high standard to follow. The facial emotions of the characters are also perfectly presented. The action scenes are brilliant and VERY well animated, with a variety of alchemy techniques and other talents being displayed nearly every episode. The various battles are consistently exciting to watch, but somehow get even better towards the end of the series.\\nThe voice acting is of an excellent and consistent quality, and I think that pretty much all the characters have voice actors which suit their personalities. The majority of the openings/endings are a pleasure to watch due to fantastic animated sequences and theme songs. The background music which play during the episodes usually fit very well with the situation, although some tracks seem to be overused a little at first. This becomes less of a problem as the series progresses, with plenty of new music being introduced to support the story as it reaches the finale.\\nMoving on to the characters (best thing about this series), the original FMA focussed mainly on Ed and Al and on their struggles to regain their bodies, whereas Brotherhood also explores other characters to great detail at the same time. The majority of the spotlight is still on the two brothers, but it highlights their interactions with new characters which were not present in the original anime. New characters include a group of people from Xing (a neighbouring country), another person from the Armstrong family (who I think has become one of the coolest members of the supporting cast), and a new main antagonist. For me, the Xingese characters in particular (Ling Yao and Mei Chang among others) provide a new dimension to the FMA world, by showing us a different culture to the militaristic one we're familiar with. I think the new antagonist is an improvement on the original FMA, as this person has a much stronger and clever link to the Elric brothers' father. Returning characters from the original FMA, such as Mustang and Scar, are much more awesome and developed due to the fact that Brotherhood is 100% faithful to the manga. Plus, Winry Rockbell now has a much more active role in the story. I can say for sure that this anime has one of the best main/supporting casts I've ever seen, and you'd probably find it difficult to label any of the recurring characters (whether they are good or evil) as being either boring or unnecessary in terms of the storyline.\\nOne of the many good things about this series is that there has been absolutely no filler at all (yes, I'm thinking of Naruto, Inuyasha, etc), which prevents the story from losing momentum. All the episodes are concise and every scene is important as part of the huge plot. The dialogue fully explains everything and is straight to the point. As multiple characters are explored there are lots of side stories, but these are all perfectly intertwined with the main story of the Elric brothers and more often than not directly influence their journey too. Like most anime series, there are things from the manga which have been left out, but these are usually just restricted to comedy moments. There has been one episode which shows a lot of flashbacks of events so far, but that's forgiven as it shows the most epic moments of the series, and also provided us with some history on the father of the Elric brothers.\\nFMA Brotherhood will be sorely missed now that it's finished. It is excellent in every aspect and has very little, if anything, that can be called a flaw (maybe rushed character development at first due to the fast pacing, but this quickly subsides). Each episode feels like it's too short, a testimony to how much it draws you in to the story and characters. There are moments which leave you smiling, laughing, sad and simply amazed. Try this anime, it's recommended for absolutely everyone, to newcomers and to those familiar with Fullmetal Alchemist.\", 'content_type': 'text', 'score': None, 'meta': {}, 'embedding': None, 'id': 'f81b7e3717bf00d3586ac982a9b0161e'}>"
      ]
     },
     "execution_count": 9,
     "metadata": {},
     "output_type": "execute_result"
    }
   ],
   "source": [
    "result['documents'][0]"
   ]
  }
 ],
 "metadata": {
  "kernelspec": {
   "display_name": "Python 3.10.6 ('mal')",
   "language": "python",
   "name": "python3"
  },
  "language_info": {
   "codemirror_mode": {
    "name": "ipython",
    "version": 3
   },
   "file_extension": ".py",
   "mimetype": "text/x-python",
   "name": "python",
   "nbconvert_exporter": "python",
   "pygments_lexer": "ipython3",
   "version": "3.10.6"
  },
  "orig_nbformat": 4,
  "vscode": {
   "interpreter": {
    "hash": "7122134416afcff1121e76ba151eb1586243618e6e0e35a30fdeb76e007ce70f"
   }
  }
 },
 "nbformat": 4,
 "nbformat_minor": 2
}
